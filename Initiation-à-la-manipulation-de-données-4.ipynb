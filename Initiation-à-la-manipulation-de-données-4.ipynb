{
 "cells": [
  {
   "cell_type": "markdown",
   "metadata": {},
   "source": [
    "# Introduction à la manipulation de données avec python\n",
    "\n",
    "![logoIcon.png](http://image.noelshack.com/fichiers/2018/42/4/1539854945-logoicon.png)"
   ]
  },
  {
   "cell_type": "markdown",
   "metadata": {},
   "source": [
    "**Premièrement, importez quelques bibliothèques dont vous aurez besoin pour manipuler des données :**\n",
    "    \n",
    "pandas pour lire les données provenant d'un csv + manipulation de dataframe\n",
    "numpy pour manipuler des les manipulations d'arrays + pour les opérations mathématiques\n",
    "seaborn et matplotlib pour la visualisation.\n",
    "\n",
    "Pour importer une librairie : import + nom de la librairie\n",
    "\n",
    "Il est possible que vous n'ayez pas toutes les librairies ci-dessus, pas de panique, en vous rendant dans l'anaconda prompt vous n'aurez qu'à taper les lignes de commande suivantes : \n",
    "\n",
    "conda install -c conda-forge matplotlib \n",
    "conda install -c conda-forge seaborn \n",
    "conda install -c conda-forge pandas \n",
    "\n",
    "Pour plus d'info... voir https://www.youtube.com/watch?v=pVME6JvdD5g&t=8s\n",
    "\n",
    "    La première étape est donc d'importer les différentes librairies"
   ]
  },
  {
   "cell_type": "code",
   "execution_count": 159,
   "metadata": {},
   "outputs": [],
   "source": [
    "import pandas as pd\n",
    "import matplotlib.pyplot as plt\n",
    "import numpy as np\n",
    "import seaborn as sns"
   ]
  },
  {
   "cell_type": "markdown",
   "metadata": {},
   "source": [
    "    2. La deuxième étape consiste à importer la base de données sur laquelle vous allez travailler, en format csv. Pour cela,\n",
    "    importez le fichier csv qui vous a été présenté et mettez dans le même dossier que votre fichier jupyter notebook. \n",
    "    Ensuite, utilisez la fonction pandas : dataset = pandas.read_csv(\"nomdufichier\") \n",
    "    \n",
    "    Nous allons ici analyser un dataset qui contient les différents types de morts aux Etats Unis\n",
    "    \n",
    "    Une fois le dataset importé, pandas vous permet de voir quels sont les différentes colonnes avec la fonction : \n",
    "    dataset.head() "
   ]
  },
  {
   "cell_type": "code",
   "execution_count": null,
   "metadata": {},
   "outputs": [],
   "source": []
  },
  {
   "cell_type": "markdown",
   "metadata": {},
   "source": [
    "Il est important de comprendre à quoi correspondent vos variables, est-ce que ce sont des arrays, des ndarrays, des dataframe pandas etc... Pour être sur de ce que vous manipuler, n'hésiter pas à régulièrement utiliser la fonction type(votrevariable) qui vous renvoie le type de la variable. (exemple : type(dataframe)).\n",
    "\n",
    "Quelques indications : \n",
    "    \n",
    "    array = An array is a special variable, which can hold more than one value at a time.\n",
    "    \n",
    "    ndarray = An ndarray is a (usually fixed-size) multidimensional container of items of the same type and size. \n",
    "    \n",
    "    dataframe = Two-dimensional size-mutable, potentially heterogeneous tabular data structure with labeled axes (rows and\n",
    "    columns)\n",
    "\n",
    "\n",
    "Par ailleurs, il est très important de savoir chercher sur internet lorsque vous avez un doute sur quoi que ce soit. Je vous propose par la suite de m'afficher les dimensions de ce dataframe, en vous appuyant sur la documentation de Pandas : https://pandas.pydata.org/pandas-docs/stable/"
   ]
  },
  {
   "cell_type": "code",
   "execution_count": null,
   "metadata": {},
   "outputs": [],
   "source": []
  },
  {
   "cell_type": "markdown",
   "metadata": {},
   "source": [
    "Une fois les dimensions trouvées, vous allez créer d'autres dataset avec celui-ci :\n",
    "\n",
    "    -pour selectionner une colonne : dataframe[['Nom colonne1','Nom colonne2'...'Nom colonneN']]\n",
    "    -pour supprimer une colonne : dataframe.drop(['Nom colonne1','Nom colonne2'...'Nom colonneN'], axis=1)\n",
    "    -pour joindre deux dataframe (ajouter des lignes): df1.append(df)\n",
    "    -pour joindre deux dataframe (ajouter des colonnes): pandas.concat([df, df1], axis=1)\n",
    "\n",
    "Objectif :\n",
    "\n",
    "    1.Supprimer la colonne rate du dataset\n",
    "    \n",
    "    2.Créer un nouveau dataset avec uniquement l'année de la mort et l'Etat\n",
    "    \n",
    "    3.Créer un dataset avec uniquement le nombre de morts, puis le concatener avec le dataset de l'étape 2\n",
    "    \n",
    "    4. En utilisant la fonction numpy.min(), jusqu'à quelle année remonte ce dataset ?"
   ]
  },
  {
   "cell_type": "code",
   "execution_count": null,
   "metadata": {},
   "outputs": [],
   "source": []
  },
  {
   "cell_type": "markdown",
   "metadata": {},
   "source": [
    "Un peu de maths maintenant, créez une fonction qui parcours le nombre de mort et qui renvoie la moyenne pour chaque état. La fonction dataframe['Nom de la colonne'].value_counts() vous renvoie le nombre d'occurence dans une colonne"
   ]
  },
  {
   "cell_type": "code",
   "execution_count": null,
   "metadata": {},
   "outputs": [],
   "source": []
  },
  {
   "cell_type": "markdown",
   "metadata": {},
   "source": [
    "Utilisez ensuite la fonction dataframe.describe().T Qui vous détaille les caractéristiques de votre dataset, est ce que votre moyenne est bien la même ? "
   ]
  },
  {
   "cell_type": "code",
   "execution_count": null,
   "metadata": {},
   "outputs": [],
   "source": []
  },
  {
   "cell_type": "markdown",
   "metadata": {},
   "source": [
    "Un peu d'affichage maintenant, nous allons afficher l'évolution du nombre de mort depuis le debut du dataset.\n",
    "\n",
    "Créez une fonction qui renvoie une liste \"mort_par_annes\" avec le nombre de mort par année.\n",
    "\n",
    "    - year in df.Year.unique() renvoie une liste avec le nombre d'année différentes\n",
    "    \n",
    "    - df.loc[df['Year'] == year, 'Deaths'].sum() renvoie la somme du nombre de mort par an\n",
    "    \n",
    " Ensuite, pour afficher le nombre de mort, sns.lineplot(les différentes années,votre matrice) "
   ]
  },
  {
   "cell_type": "code",
   "execution_count": null,
   "metadata": {},
   "outputs": [],
   "source": [
    "\n"
   ]
  },
  {
   "cell_type": "markdown",
   "metadata": {},
   "source": [
    "Nous allons ensuite afficher un \"pie chart\" des différents types de mort.\n",
    "\n",
    "Pour cela, différentes étapes : \n",
    "\n",
    "    1. On créé une dataset avec uniquement les valeurs dont on a besoin\n",
    "    \n",
    "    2. On créé une liste dans laquelle on ajoute la somme des morts pour chaque cause\n",
    "    \n",
    "    3. On convertit notre liste en dataframe : dataframe = pd.DataFrame(liste,columns=légende colonnes])"
   ]
  },
  {
   "cell_type": "code",
   "execution_count": null,
   "metadata": {},
   "outputs": [],
   "source": []
  },
  {
   "cell_type": "code",
   "execution_count": null,
   "metadata": {},
   "outputs": [],
   "source": []
  },
  {
   "cell_type": "markdown",
   "metadata": {},
   "source": [
    "On affiche ensuite avec matplotlib les pie chart : plt.pie(liste de valeurs,labels=legendes)"
   ]
  },
  {
   "cell_type": "code",
   "execution_count": null,
   "metadata": {},
   "outputs": [],
   "source": []
  },
  {
   "cell_type": "markdown",
   "metadata": {},
   "source": [
    "Créez ensuite une fonction qui prend en entrée une année qui  renvoie un dataframe avec le nombre de mort \n",
    "selon les différentes catégories"
   ]
  },
  {
   "cell_type": "code",
   "execution_count": null,
   "metadata": {},
   "outputs": [],
   "source": [
    "\n"
   ]
  },
  {
   "cell_type": "code",
   "execution_count": null,
   "metadata": {},
   "outputs": [],
   "source": []
  },
  {
   "cell_type": "code",
   "execution_count": null,
   "metadata": {},
   "outputs": [],
   "source": []
  },
  {
   "cell_type": "markdown",
   "metadata": {},
   "source": [
    "Quelques questions pour aller plus loin: \n",
    "    \n",
    "    - Est-ce que certains états sont plus touchés que d'autre par la maladie ?\n",
    "    \n",
    "    - Quelle est l'esperance de vie moyenne aux Etats-Unis ?\n",
    "    \n",
    "    - Comment a évolué le nombre de mort lié au cancer au cours de dernières années ?\n",
    "    \n",
    "    - Quelle est la moyenne d'âge de personnes mourrant de \"Heart disease\""
   ]
  },
  {
   "cell_type": "code",
   "execution_count": null,
   "metadata": {},
   "outputs": [],
   "source": []
  }
 ],
 "metadata": {
  "kernelspec": {
   "display_name": "Python 3",
   "language": "python",
   "name": "python3"
  },
  "language_info": {
   "codemirror_mode": {
    "name": "ipython",
    "version": 3
   },
   "file_extension": ".py",
   "mimetype": "text/x-python",
   "name": "python",
   "nbconvert_exporter": "python",
   "pygments_lexer": "ipython3",
   "version": "3.7.0"
  }
 },
 "nbformat": 4,
 "nbformat_minor": 2
}
